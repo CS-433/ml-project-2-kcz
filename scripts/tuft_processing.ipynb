{
 "cells": [
  {
   "cell_type": "markdown",
   "metadata": {},
   "source": [
    "# Tuft processing"
   ]
  },
  {
   "cell_type": "markdown",
   "metadata": {},
   "source": [
    "Having processed the wing image to obtain tuft sub-images, we are now interested in processing these sub-images delicately to obtain 0-1 matrices usable by our chosen machine learning technique."
   ]
  },
  {
   "cell_type": "code",
   "execution_count": 1,
   "metadata": {},
   "outputs": [],
   "source": [
    "import os\n",
    "\n",
    "import numpy as np\n",
    "import pandas as pd\n",
    "from matplotlib import pyplot as plt\n",
    "\n",
    "from scipy import ndimage\n",
    "from scipy.signal import convolve2d\n",
    "from PIL import Image\n",
    "\n",
    "from tuft_helpers import *"
   ]
  },
  {
   "cell_type": "code",
   "execution_count": 2,
   "metadata": {},
   "outputs": [],
   "source": [
    "# Load the processed data into pandas\n",
    "tufts_df = load_df('im0007')"
   ]
  },
  {
   "cell_type": "code",
   "execution_count": 32,
   "metadata": {},
   "outputs": [
    {
     "name": "stdout",
     "output_type": "stream",
     "text": [
      "244\n"
     ]
    },
    {
     "data": {
      "text/plain": [
       "<matplotlib.image.AxesImage at 0x7f91ece87fa0>"
      ]
     },
     "execution_count": 32,
     "metadata": {},
     "output_type": "execute_result"
    },
    {
     "data": {
      "image/png": "[encoded data removed]",
      "text/plain": [
       "<Figure size 144x144 with 1 Axes>"
      ]
     },
     "metadata": {
      "needs_background": "light"
     },
     "output_type": "display_data"
    }
   ],
   "source": [
    "# Check to see that tuft images are correctly loaded\n",
    "\n",
    "import random as rand\n",
    "from basic import rescale_image\n",
    "\n",
    "i = rand.randint(0, len(tufts_df['tuft']) - 1)\n",
    "print(i)\n",
    "\n",
    "img = np.array(tufts_df.iloc[i]['tuft'])\n",
    "\n",
    "plt.figure(figsize=(2, 2))\n",
    "plt.imshow(rescale_image(img), cmap='gray')"
   ]
  },
  {
   "cell_type": "markdown",
   "metadata": {},
   "source": [
    "We observe that the tufts we seek to extract and process are always attached to the bottom of the image. Our first approach to isolating the tuft is the following:\n",
    "- Find the brightest pixel close to the center on the bottom-most row of the image (taking into account the black border).\n",
    "- From this pixel, construct a blob such that all pixels have similar brightness values (the difference between two adjacent blobs does not exceed a threshold value $delta$)\n",
    "- The blob constitutes the tuft. All its pixels are to be colored white (set to 1), and all other pixels in the image are to be colored black (set to 0)."
   ]
  },
  {
   "cell_type": "code",
   "execution_count": 4,
   "metadata": {},
   "outputs": [],
   "source": [
    "def mid_generator(width):\n",
    "    mid = int(np.floor(width / 2))\n",
    "    lo = list(range(mid))\n",
    "    lo.reverse()\n",
    "    hi = list(range(mid, width))\n",
    "\n",
    "    i = 0\n",
    "    while (lo or hi):\n",
    "        i = (i + 1) % 2\n",
    "        if (i == 0):\n",
    "            y = lo[0]\n",
    "            lo = lo[1:]\n",
    "        else:\n",
    "            y = hi[0]\n",
    "            hi = hi[1:]\n",
    "\n",
    "        yield y"
   ]
  },
  {
   "cell_type": "code",
   "execution_count": 5,
   "metadata": {},
   "outputs": [],
   "source": [
    "def get_lower_brightest_pixel(img, bg_threshold):\n",
    "\n",
    "    for i in range(img.shape[0] - 1).__reversed__():\n",
    "        width = len(img[i])\n",
    "        for j in mid_generator(width):\n",
    "            if (img[i, j] > bg_threshold):\n",
    "                return (i, j)\n",
    "\n",
    "    return None\n"
   ]
  },
  {
   "cell_type": "code",
   "execution_count": 6,
   "metadata": {},
   "outputs": [
    {
     "name": "stdout",
     "output_type": "stream",
     "text": [
      "(28, 4)\n"
     ]
    }
   ],
   "source": [
    "start_pixel = get_lower_brightest_pixel(img, 0.2)\n",
    "print(start_pixel)"
   ]
  },
  {
   "cell_type": "code",
   "execution_count": 7,
   "metadata": {},
   "outputs": [],
   "source": [
    "from blobs import get_blob_pixels, coordinates_within_bounds, index_set"
   ]
  },
  {
   "cell_type": "code",
   "execution_count": 8,
   "metadata": {},
   "outputs": [],
   "source": [
    "sim_delta = 0.025\n",
    "\n",
    "def pixel_is_similar(img, cur_, next_):\n",
    "    \"\"\"\n",
    "    Check that the next pixel is within image\n",
    "    boundaries and has a value similar enough to\n",
    "    the current pixel.\n",
    "    \"\"\"\n",
    "    return coordinates_within_bounds(img, next_)\\\n",
    "           and (np.abs(img[cur_] - img[next_]) <= sim_delta)"
   ]
  },
  {
   "cell_type": "code",
   "execution_count": 9,
   "metadata": {},
   "outputs": [],
   "source": [
    "main_blob = get_blob_pixels(img, start_pixel, pixel_is_similar, set())\n",
    "\n",
    "\n",
    "idx = index_set(main_blob)\n",
    "\n",
    "\n",
    "result_img = np.zeros(shape=img.shape)\n",
    "result_img[idx] = 1"
   ]
  },
  {
   "cell_type": "code",
   "execution_count": 10,
   "metadata": {},
   "outputs": [],
   "source": [
    "def show_several(imgs, grid_size=None, img_size=None, cmap='viridis'):\n",
    "\n",
    "    if (grid_size == None):\n",
    "        grid_size = (1, len(imgs))\n",
    "    if (img_size == None):\n",
    "        img_size = (6, len(imgs) * 6)\n",
    "\n",
    "    fig = plt.figure(figsize=img_size)\n",
    "    rows, columns = grid_size\n",
    "    for i in range(1, columns*rows + 1):\n",
    "        fig.add_subplot(rows, columns, i)\n",
    "        plt.imshow(imgs[i - 1], cmap=cmap)\n",
    "    plt.show()\n"
   ]
  },
  {
   "cell_type": "code",
   "execution_count": 11,
   "metadata": {},
   "outputs": [
    {
     "data": {
      "image/png": "[encoded data removed]",
      "text/plain": [
       "<Figure size 432x864 with 2 Axes>"
      ]
     },
     "metadata": {
      "needs_background": "light"
     },
     "output_type": "display_data"
    }
   ],
   "source": [
    "show_several([img, result_img])"
   ]
  },
  {
   "cell_type": "code",
   "execution_count": 12,
   "metadata": {},
   "outputs": [
    {
     "data": {
      "image/png": "[encoded data removed]",
      "text/plain": [
       "<Figure size 432x1296 with 3 Axes>"
      ]
     },
     "metadata": {
      "needs_background": "light"
     },
     "output_type": "display_data"
    }
   ],
   "source": [
    "# Second approach: attempt edge detection on the tuft sub-image\n",
    "from scipy.signal import convolve2d\n",
    "\n",
    "sobel = [\n",
    "    [-3-3j, 0-10j, 3-3j],\n",
    "    [-10+0j, 0+0j, 10+0j],\n",
    "    [-3+3j, 0+10j, 3+3j]\n",
    "]\n",
    "\n",
    "scharr = [\n",
    "    [-47-47j, 0-162j, 47-47j],\n",
    "    [-162-0j, 0-0j, 162-0j],\n",
    "    [-47+47j, 0+162j, 47+47j]\n",
    "]\n",
    "\n",
    "box = np.array([\n",
    "    [1, 1, 1],\n",
    "    [1, 1, 1],\n",
    "    [1, 1, 1]\n",
    "]) * 1/9\n",
    "\n",
    "conv_img = np.absolute(convolve2d(img, box, mode='full', boundary='symm'))\n",
    "show_several([img, conv_img, ndimage.filters.gaussian_filter(img, 1)], cmap='gray')"
   ]
  },
  {
   "cell_type": "code",
   "execution_count": 13,
   "metadata": {},
   "outputs": [],
   "source": [
    "def apply_conv_op(img, op):\n",
    "    result_img = img.copy()\n",
    "    result_img = np.absolute(convolve2d(result_img, op, mode='full', boundary='symm'))\n",
    "    return result_img"
   ]
  },
  {
   "cell_type": "code",
   "execution_count": 75,
   "metadata": {},
   "outputs": [],
   "source": [
    "def find_closest_point(pt, idx):\n",
    "    c_x, c_y = pt\n",
    "\n",
    "    min_dist = np.inf\n",
    "    min_idx = -1\n",
    "    for i in range(len(idx[0])):\n",
    "        x, y = (idx[0][i], idx[1][i])\n",
    "        dist = np.sqrt(((x - c_x) ** 2) + ((y - c_y) ** 2))\n",
    "        if (dist < min_dist):\n",
    "            min_dist = dist\n",
    "            min_idx = i\n",
    "\n",
    "    return (idx[0][min_idx], idx[1][min_idx])\n"
   ]
  },
  {
   "cell_type": "code",
   "execution_count": 15,
   "metadata": {},
   "outputs": [],
   "source": [
    "from blobs import get_blob_pixels, coordinates_within_bounds, index_set, always_true_validator\n"
   ]
  },
  {
   "cell_type": "code",
   "execution_count": 16,
   "metadata": {},
   "outputs": [],
   "source": [
    "from scipy.ndimage.filters import maximum_filter, minimum_filter"
   ]
  },
  {
   "cell_type": "code",
   "execution_count": 18,
   "metadata": {},
   "outputs": [],
   "source": [
    "from basic import separate\n",
    "\n",
    "def tuft_pipeline(img):\n",
    "\n",
    "    result_img = img.copy()\n",
    "\n",
    "    #separate(result_img, 0)\n",
    "    #result_img = np.log10(result_img, where=result_img != 0)\n",
    "\n",
    "    return get_tuft_blob(result_img)\n"
   ]
  },
  {
   "cell_type": "code",
   "execution_count": 155,
   "metadata": {},
   "outputs": [],
   "source": [
    "def naive_line(r0, c0, r1, c1):\n",
    "    # The algorithm below works fine if c1 >= c0 and c1-c0 >= abs(r1-r0).\n",
    "    # If either of these cases are violated, do some switches.\n",
    "    if abs(c1-c0) < abs(r1-r0):\n",
    "        # Switch x and y, and switch again when returning.\n",
    "        xx, yy, val = naive_line(c0, r0, c1, r1)\n",
    "        return (yy, xx, val)\n",
    "\n",
    "    # At this point we know that the distance in columns (x) is greater\n",
    "    # than that in rows (y). Possibly one more switch if c0 > c1.\n",
    "    if c0 > c1:\n",
    "        return naive_line(r1, c1, r0, c0)\n",
    "\n",
    "    # We write y as a function of x, because the slope is always <= 1\n",
    "    # (in absolute value)\n",
    "    x = np.arange(c0, c1+1, dtype=float)\n",
    "    y = x * (r1-r0) / (c1-c0) + (c1*r0-c0*r1) / (c1-c0)\n",
    "\n",
    "    valbot = np.floor(y)-y+1\n",
    "    valtop = y-np.floor(y)\n",
    "\n",
    "    return (np.concatenate((np.floor(y), np.floor(y)+1)).astype(int), np.concatenate((x, x)).astype(int),\n",
    "            np.concatenate((valbot, valtop)))\n"
   ]
  },
  {
   "cell_type": "code",
   "execution_count": 310,
   "metadata": {},
   "outputs": [],
   "source": [
    "def get_tuft_blob(img):\n",
    "    or_img = img.copy()[1:-1, 1:-1]\n",
    "    img = rescale_image(img[1:-1, 1:-1])\n",
    "\n",
    "\n",
    "    img = ndimage.filters.gaussian_filter(img, 1.25)\n",
    "\n",
    "\n",
    "    footprint = int(np.floor(img.shape[0]/2))\n",
    "\n",
    "    maxima = (img == maximum_filter(img, footprint)).astype(np.float16)\n",
    "    max_idx = np.where(maxima == 1.0)\n",
    "\n",
    "    minima = (img == minimum_filter(img, footprint)).astype(np.float16)\n",
    "    min_idx = np.where(minima == 1.0)\n",
    "\n",
    "    closest = find_closest_point((img.shape[0]/2, img.shape[1]/2), max_idx)\n",
    "\n",
    "\n",
    "    bottom_mid = (img.shape[0] - 1, int(np.floor(img.shape[1] / 2)))\n",
    "\n",
    "\n",
    "    line_img = np.zeros(img.shape)\n",
    "    xx, yy, val = naive_line(\n",
    "        closest[0], closest[1], bottom_mid[0], bottom_mid[1])\n",
    "\n",
    "    l = len(xx)\n",
    "    xx, yy = xx[:l], yy[:l]\n",
    "    xx -= 1\n",
    "    yy -= 1\n",
    "\n",
    "    line_img[xx, yy] = 1\n",
    "\n",
    "\n",
    "\n",
    "    #brighten the area\n",
    "    img[np.where(line_img == 1)] = np.max(val)#1#img + line_img * 0.05\n",
    "    img = rescale_image(img)\n",
    "    plt.imshow(img)\n",
    "\n",
    "\n",
    "\n",
    "\n",
    "    inv_img = 1 - img#separate(1 - img, 10)\n",
    "    inv_img = (inv_img * (10 ** 3)).astype(np.uint16)\n",
    "\n",
    "    mask = np.zeros(shape=inv_img.shape, dtype=bool)\n",
    "    mask[max_idx] = True\n",
    "    mask[min_idx] = True\n",
    "\n",
    "    markers, _ = ndimage.label(mask)\n",
    "\n",
    "    labels = ndimage.watershed_ift(inv_img, markers)\n",
    "\n",
    "    result = labels.copy()\n",
    "\n",
    "    zones = list(np.unique(markers))\n",
    "\n",
    "    zones.remove(markers[closest])\n",
    "\n",
    "    for l in zones:\n",
    "        result[np.where(labels == l)] = 0\n",
    "\n",
    "    result[np.where(labels == markers[closest])] = 1\n",
    "\n",
    "\n",
    "    frame = (33, 12)\n",
    "\n",
    "    crop = np.zeros(shape=frame)\n",
    "    crop[-result.shape[0]:frame[0], -result.shape[1]:frame[1]] = result\n",
    "    result = crop\n",
    "\n",
    "    show_several([or_img, img, markers, labels, result, line_img])\n",
    "\n",
    "    return labels\n"
   ]
  },
  {
   "cell_type": "code",
   "execution_count": 313,
   "metadata": {},
   "outputs": [
    {
     "name": "stdout",
     "output_type": "stream",
     "text": [
      "354\n"
     ]
    },
    {
     "data": {
      "image/png": "[encoded data removed]",
      "text/plain": [
       "<Figure size 432x288 with 1 Axes>"
      ]
     },
     "metadata": {
      "needs_background": "light"
     },
     "output_type": "display_data"
    },
    {
     "data": {
      "image/png": "[encoded data removed]",
      "text/plain": [
       "<Figure size 432x2592 with 6 Axes>"
      ]
     },
     "metadata": {
      "needs_background": "light"
     },
     "output_type": "display_data"
    }
   ],
   "source": [
    "import random as rand\n",
    "from basic import rescale_image\n",
    "\n",
    "\n",
    "tufts_df = load_df('im0009')\n",
    "#shapes = set()\n",
    "#for i, tuft in tufts_df.iterrows():\n",
    "#    shapes.add(np.array(tuft['tuft']).shape)\n",
    "\n",
    "i = rand.randint(0, len(tufts_df['tuft']) - 1)\n",
    "i = 354\n",
    "print(i)\n",
    "#i=497\n",
    "\n",
    "img = np.array(tufts_df.iloc[i]['tuft'])\n",
    "result_img = tuft_pipeline(img)\n",
    "\n",
    "# 101, 277, 300, 506, 244\n"
   ]
  }
 ],
 "metadata": {
  "interpreter": {
   "hash": "e142eabc3072b3d47401f17de367aa68f2a2cbfef8a690efbf88ae910b5683eb"
  },
  "kernelspec": {
   "display_name": "Python 3.8.11 64-bit ('ada': conda)",
   "language": "python",
   "name": "python3"
  },
  "language_info": {
   "codemirror_mode": {
    "name": "ipython",
    "version": 3
   },
   "file_extension": ".py",
   "mimetype": "text/x-python",
   "name": "python",
   "nbconvert_exporter": "python",
   "pygments_lexer": "ipython3",
   "version": "3.8.11"
  },
  "orig_nbformat": 4
 },
 "nbformat": 4,
 "nbformat_minor": 2
}
