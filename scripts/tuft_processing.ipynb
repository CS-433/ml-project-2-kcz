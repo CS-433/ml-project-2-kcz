{
 "cells": [
  {
   "cell_type": "markdown",
   "metadata": {},
   "source": [
    "# Tuft processing"
   ]
  },
  {
   "cell_type": "markdown",
   "metadata": {},
   "source": [
    "Having processed the wing image to obtain tuft sub-images, we are now interested in processing these sub-images delicately to obtain 0-1 matrices usable by our chosen machine learning technique."
   ]
  },
  {
   "cell_type": "code",
   "execution_count": 1,
   "metadata": {},
   "outputs": [],
   "source": [
    "import os\n",
    "\n",
    "import numpy as np\n",
    "import pandas as pd\n",
    "from matplotlib import pyplot as plt\n",
    "\n",
    "from scipy import ndimage\n",
    "from scipy.signal import convolve2d\n",
    "from PIL import Image\n",
    "\n",
    "from tuft_helpers import *"
   ]
  },
  {
   "cell_type": "code",
   "execution_count": 2,
   "metadata": {},
   "outputs": [],
   "source": [
    "# Load the processed data into pandas\n",
    "tufts_df = load_df('im0007')"
   ]
  },
  {
   "cell_type": "code",
   "execution_count": 3,
   "metadata": {},
   "outputs": [
    {
     "data": {
      "text/plain": [
       "<matplotlib.image.AxesImage at 0x7f84173694f0>"
      ]
     },
     "execution_count": 3,
     "metadata": {},
     "output_type": "execute_result"
    },
    {
     "data": {
      "image/png": "[encoded data removed]",
      "text/plain": [
       "<Figure size 144x144 with 1 Axes>"
      ]
     },
     "metadata": {
      "needs_background": "light"
     },
     "output_type": "display_data"
    }
   ],
   "source": [
    "# Check to see that tuft images are correctly loaded\n",
    "\n",
    "import random as rand\n",
    "from basic import rescale_image\n",
    "\n",
    "i = rand.randint(0, len(tufts_df['tuft']) - 1)\n",
    "\n",
    "img = np.array(tufts_df.iloc[i]['tuft'])\n",
    "\n",
    "plt.figure(figsize=(2, 2))\n",
    "plt.imshow(rescale_image(img), cmap='gray')"
   ]
  },
  {
   "cell_type": "markdown",
   "metadata": {},
   "source": [
    "We observe that the tufts we seek to extract and process are always attached to the bottom of the image. Our first approach to isolating the tuft is the following:\n",
    "- Find the brightest pixel close to the center on the bottom-most row of the image (taking into account the black border).\n",
    "- From this pixel, construct a blob such that all pixels have similar brightness values (the difference between two adjacent blobs does not exceed a threshold value $delta$)\n",
    "- The blob constitutes the tuft. All its pixels are to be colored white (set to 1), and all other pixels in the image are to be colored black (set to 0)."
   ]
  },
  {
   "cell_type": "code",
   "execution_count": 4,
   "metadata": {},
   "outputs": [],
   "source": [
    "def mid_generator(width):\n",
    "    mid = int(np.floor(width / 2))\n",
    "    lo = list(range(mid))\n",
    "    lo.reverse()\n",
    "    hi = list(range(mid, width))\n",
    "\n",
    "    i = 0\n",
    "    while (lo or hi):\n",
    "        i = (i + 1) % 2\n",
    "        if (i == 0):\n",
    "            y = lo[0]\n",
    "            lo = lo[1:]\n",
    "        else:\n",
    "            y = hi[0]\n",
    "            hi = hi[1:]\n",
    "\n",
    "        yield y"
   ]
  },
  {
   "cell_type": "code",
   "execution_count": 5,
   "metadata": {},
   "outputs": [],
   "source": [
    "def get_lower_brightest_pixel(img, bg_threshold):\n",
    "\n",
    "    for i in range(img.shape[0] - 1).__reversed__():\n",
    "        width = len(img[i])\n",
    "        for j in mid_generator(width):\n",
    "            if (img[i, j] > bg_threshold):\n",
    "                return (i, j)\n",
    "\n",
    "    return None\n"
   ]
  },
  {
   "cell_type": "code",
   "execution_count": 6,
   "metadata": {},
   "outputs": [
    {
     "name": "stdout",
     "output_type": "stream",
     "text": [
      "(28, 4)\n"
     ]
    }
   ],
   "source": [
    "start_pixel = get_lower_brightest_pixel(img, 0.2)\n",
    "print(start_pixel)"
   ]
  },
  {
   "cell_type": "code",
   "execution_count": 7,
   "metadata": {},
   "outputs": [],
   "source": [
    "from blobs import get_blob_pixels, coordinates_within_bounds, index_set"
   ]
  },
  {
   "cell_type": "code",
   "execution_count": 8,
   "metadata": {},
   "outputs": [],
   "source": [
    "sim_delta = 0.025\n",
    "\n",
    "def pixel_is_similar(img, cur_, next_):\n",
    "    \"\"\"\n",
    "    Check that the next pixel is within image\n",
    "    boundaries and has a value similar enough to\n",
    "    the current pixel.\n",
    "    \"\"\"\n",
    "    return coordinates_within_bounds(img, cur_, next_)\\\n",
    "           and (np.abs(img[cur_] - img[next_]) <= sim_delta)"
   ]
  },
  {
   "cell_type": "code",
   "execution_count": 9,
   "metadata": {},
   "outputs": [],
   "source": [
    "main_blob = get_blob_pixels(img, start_pixel, pixel_is_similar, set())\n",
    "\n",
    "\n",
    "idx = index_set(main_blob)\n",
    "\n",
    "\n",
    "result_img = np.zeros(shape=img.shape)\n",
    "result_img[idx] = 1"
   ]
  },
  {
   "cell_type": "code",
   "execution_count": 10,
   "metadata": {},
   "outputs": [
    {
     "data": {
      "image/png": "[encoded data removed]",
      "text/plain": [
       "<Figure size 576x576 with 2 Axes>"
      ]
     },
     "metadata": {
      "needs_background": "light"
     },
     "output_type": "display_data"
    }
   ],
   "source": [
    "imgs = [img, result_img]\n",
    "\n",
    "w = 10\n",
    "h = 10\n",
    "fig = plt.figure(figsize=(8, 8))\n",
    "columns = 2\n",
    "rows = 1\n",
    "for i in range(1, columns*rows + 1):\n",
    "    fig.add_subplot(rows, columns, i)\n",
    "    plt.imshow(imgs[i - 1])\n",
    "plt.show()\n"
   ]
  },
  {
   "cell_type": "code",
   "execution_count": 11,
   "metadata": {},
   "outputs": [],
   "source": [
    "def tuft_pipeline(img):\n",
    "    start_pixel = get_lower_brightest_pixel(img, 0.2)\n",
    "\n",
    "    main_blob = get_blob_pixels(img, start_pixel, pixel_is_similar, set())\n",
    "\n",
    "    idx = index_set(main_blob)\n",
    "\n",
    "    result_img = np.zeros(shape=img.shape)\n",
    "    result_img[idx] = 1\n",
    "\n",
    "    return result_img"
   ]
  },
  {
   "cell_type": "code",
   "execution_count": 58,
   "metadata": {},
   "outputs": [
    {
     "data": {
      "image/png": "[encoded data removed]",
      "text/plain": [
       "<Figure size 576x576 with 2 Axes>"
      ]
     },
     "metadata": {
      "needs_background": "light"
     },
     "output_type": "display_data"
    }
   ],
   "source": [
    "import random as rand\n",
    "from basic import rescale_image\n",
    "\n",
    "i = rand.randint(0, len(tufts_df['tuft']) - 1)\n",
    "\n",
    "img = np.array(tufts_df.iloc[i]['tuft'])\n",
    "result_img = tuft_pipeline(img)\n",
    "\n",
    "imgs = [img, result_img]\n",
    "\n",
    "w = 10\n",
    "h = 10\n",
    "fig = plt.figure(figsize=(8, 8))\n",
    "columns = 2\n",
    "rows = 1\n",
    "for i in range(1, columns*rows + 1):\n",
    "    fig.add_subplot(rows, columns, i)\n",
    "    plt.imshow(imgs[i - 1])\n",
    "plt.show()\n"
   ]
  }
 ],
 "metadata": {
  "interpreter": {
   "hash": "e142eabc3072b3d47401f17de367aa68f2a2cbfef8a690efbf88ae910b5683eb"
  },
  "kernelspec": {
   "display_name": "Python 3.8.11 64-bit ('ada': conda)",
   "language": "python",
   "name": "python3"
  },
  "language_info": {
   "codemirror_mode": {
    "name": "ipython",
    "version": 3
   },
   "file_extension": ".py",
   "mimetype": "text/x-python",
   "name": "python",
   "nbconvert_exporter": "python",
   "pygments_lexer": "ipython3",
   "version": "3.8.11"
  },
  "orig_nbformat": 4
 },
 "nbformat": 4,
 "nbformat_minor": 2
}
