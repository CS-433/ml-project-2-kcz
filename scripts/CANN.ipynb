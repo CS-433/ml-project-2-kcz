{
 "cells": [
  {
   "cell_type": "code",
   "execution_count": 38,
   "id": "2e7c165f",
   "metadata": {},
   "outputs": [],
   "source": [
    "import numpy as np\n",
    "import pandas as pd\n",
    "import random\n",
    "from matplotlib import pyplot as plt\n",
    "from mpl_toolkits.mplot3d import Axes3D\n",
    "import neurolab as nl\n",
    "import numpy.random as rand\n",
    "import pylab as pl\n",
    "import ipywidgets as widgets\n",
    "from IPython.display import display\n",
    "from PIL import Image"
   ]
  },
  {
   "cell_type": "markdown",
   "id": "7f1aa482",
   "metadata": {},
   "source": [
    "Test neuroLab library:"
   ]
  },
  {
   "cell_type": "code",
   "execution_count": 23,
   "id": "b58e8a8e",
   "metadata": {},
   "outputs": [
    {
     "name": "stdout",
     "output_type": "stream",
     "text": [
      "Epoch: 20; Error: 41.55506854629956;\n",
      "Epoch: 40; Error: 39.261410484840304;\n",
      "Epoch: 60; Error: 39.50184891807287;\n",
      "Epoch: 80; Error: 39.156365210841656;\n",
      "Epoch: 100; Error: 38.913301249833665;\n",
      "Epoch: 120; Error: 38.903042557117;\n",
      "Epoch: 140; Error: 38.90444606170583;\n",
      "Epoch: 160; Error: 38.91770967125623;\n",
      "Epoch: 180; Error: 38.920437429675076;\n",
      "Epoch: 200; Error: 38.91475708690048;\n",
      "The maximum number of train epochs is reached\n"
     ]
    },
    {
     "data": {
      "image/png": "[encoded data removed]",
      "text/plain": [
       "<Figure size 432x288 with 2 Axes>"
      ]
     },
     "metadata": {
      "needs_background": "light"
     },
     "output_type": "display_data"
    }
   ],
   "source": [
    "centr = np.array([[0.2, 0.2], [0.4, 0.4], [0.7, 0.3], [0.2, 0.5], [1, 1]])\n",
    "rand_norm = 0.05 * rand.randn(100, 5, 2)\n",
    "inp = np.array([centr + r for r in rand_norm])\n",
    "inp.shape = (100 * 5, 2)\n",
    "rand.shuffle(inp)\n",
    "\n",
    "# Create net with 2 inputs and 4 neurons\n",
    "net = nl.net.newc([[0.0, 1.0],[0.0, 1.0]], 7)\n",
    "# train with rule: Conscience Winner Take All algoritm (CWTA)\n",
    "error = net.train(inp, epochs=200, show=20)\n",
    "\n",
    "# Plot results:\n",
    "pl.title('Classification Problem')\n",
    "pl.subplot(211)\n",
    "pl.plot(error)\n",
    "pl.xlabel('Epoch number')\n",
    "pl.ylabel('error (default MAE)')\n",
    "w = net.layers[0].np['w']\n",
    "\n",
    "pl.subplot(212)\n",
    "pl.plot(inp[:,0], inp[:,1], '.', \\\n",
    "        w[:,0], w[:,1], 'p')\n",
    "pl.legend(['train samples', 'train centers'])\n",
    "pl.show()"
   ]
  },
  {
   "cell_type": "markdown",
   "id": "ab04c543",
   "metadata": {},
   "source": [
    "Test neuroLab on randomized 0-1 matrix images:"
   ]
  },
  {
   "cell_type": "code",
   "execution_count": 90,
   "id": "5cd05c34",
   "metadata": {
    "scrolled": true
   },
   "outputs": [
    {
     "data": {
      "image/png": "[encoded data removed]",
      "text/plain": [
       "<PIL.Image.Image image mode=1 size=100x56 at 0x11415FEE0>"
      ]
     },
     "metadata": {},
     "output_type": "display_data"
    },
    {
     "data": {
      "image/png": "[encoded data removed]",
      "text/plain": [
       "<PIL.Image.Image image mode=1 size=100x56 at 0x10851E310>"
      ]
     },
     "metadata": {},
     "output_type": "display_data"
    },
    {
     "data": {
      "image/png": "[encoded data removed]",
      "text/plain": [
       "<PIL.Image.Image image mode=1 size=100x56 at 0x11415F550>"
      ]
     },
     "metadata": {},
     "output_type": "display_data"
    },
    {
     "data": {
      "image/png": "[encoded data removed]",
      "text/plain": [
       "<PIL.Image.Image image mode=1 size=100x56 at 0x11415F850>"
      ]
     },
     "metadata": {},
     "output_type": "display_data"
    },
    {
     "data": {
      "image/png": "[encoded data removed]",
      "text/plain": [
       "<PIL.Image.Image image mode=1 size=100x56 at 0x11415FBE0>"
      ]
     },
     "metadata": {},
     "output_type": "display_data"
    },
    {
     "data": {
      "image/png": "[encoded data removed]",
      "text/plain": [
       "<PIL.Image.Image image mode=1 size=100x56 at 0x11415F700>"
      ]
     },
     "metadata": {},
     "output_type": "display_data"
    },
    {
     "data": {
      "image/png": "[encoded data removed]",
      "text/plain": [
       "<PIL.Image.Image image mode=1 size=100x56 at 0x11415F9D0>"
      ]
     },
     "metadata": {},
     "output_type": "display_data"
    },
    {
     "data": {
      "image/png": "[encoded data removed]",
      "text/plain": [
       "<PIL.Image.Image image mode=1 size=100x56 at 0x11415FD60>"
      ]
     },
     "metadata": {},
     "output_type": "display_data"
    },
    {
     "data": {
      "image/png": "[encoded data removed]",
      "text/plain": [
       "<PIL.Image.Image image mode=1 size=100x56 at 0x11415FBE0>"
      ]
     },
     "metadata": {},
     "output_type": "display_data"
    },
    {
     "data": {
      "image/png": "[encoded data removed]",
      "text/plain": [
       "<PIL.Image.Image image mode=1 size=100x56 at 0x11415FD60>"
      ]
     },
     "metadata": {},
     "output_type": "display_data"
    },
    {
     "data": {
      "image/png": "[encoded data removed]",
      "text/plain": [
       "<PIL.Image.Image image mode=1 size=100x56 at 0x11415F850>"
      ]
     },
     "metadata": {},
     "output_type": "display_data"
    },
    {
     "data": {
      "image/png": "[encoded data removed]",
      "text/plain": [
       "<PIL.Image.Image image mode=1 size=100x56 at 0x11415FD60>"
      ]
     },
     "metadata": {},
     "output_type": "display_data"
    },
    {
     "data": {
      "image/png": "[encoded data removed]",
      "text/plain": [
       "<PIL.Image.Image image mode=1 size=100x56 at 0x11415F700>"
      ]
     },
     "metadata": {},
     "output_type": "display_data"
    },
    {
     "data": {
      "image/png": "[encoded data removed]",
      "text/plain": [
       "<PIL.Image.Image image mode=1 size=100x56 at 0x11415FBE0>"
      ]
     },
     "metadata": {},
     "output_type": "display_data"
    },
    {
     "data": {
      "image/png": "[encoded data removed]",
      "text/plain": [
       "<PIL.Image.Image image mode=1 size=100x56 at 0x11415F850>"
      ]
     },
     "metadata": {},
     "output_type": "display_data"
    },
    {
     "data": {
      "image/png": "[encoded data removed]",
      "text/plain": [
       "<PIL.Image.Image image mode=1 size=100x56 at 0x11415F3A0>"
      ]
     },
     "metadata": {},
     "output_type": "display_data"
    },
    {
     "data": {
      "image/png": "[encoded data removed]",
      "text/plain": [
       "<PIL.Image.Image image mode=1 size=100x56 at 0x11415F9D0>"
      ]
     },
     "metadata": {},
     "output_type": "display_data"
    },
    {
     "data": {
      "image/png": "[encoded data removed]",
      "text/plain": [
       "<PIL.Image.Image image mode=1 size=100x56 at 0x11415F550>"
      ]
     },
     "metadata": {},
     "output_type": "display_data"
    },
    {
     "data": {
      "image/png": "[encoded data removed]",
      "text/plain": [
       "<PIL.Image.Image image mode=1 size=100x56 at 0x11415FEE0>"
      ]
     },
     "metadata": {},
     "output_type": "display_data"
    },
    {
     "data": {
      "image/png": "[encoded data removed]",
      "text/plain": [
       "<PIL.Image.Image image mode=1 size=100x56 at 0x11415FD60>"
      ]
     },
     "metadata": {},
     "output_type": "display_data"
    },
    {
     "name": "stdout",
     "output_type": "stream",
     "text": [
      "(20, 5600)\n"
     ]
    }
   ],
   "source": [
    "# create 20 0-1 images matrix\n",
    "inputs = np.ones((20, 56*100))\n",
    "for i in range(0, 20):\n",
    "    arr = np.ones((56, 100))\n",
    "    for j in range(0, 56):\n",
    "        for h in range(0, 100):\n",
    "            r = random.uniform(0, 1)\n",
    "            arr[j][h] = 1 if r < 0.05 else 0\n",
    "            inputs[i][j*100 + h] = arr[j][h]\n",
    "    image = Image.fromarray(arr, mode=\"1\")\n",
    "    display(image)\n",
    "print(inputs.shape)"
   ]
  },
  {
   "cell_type": "code",
   "execution_count": 94,
   "id": "23592d4c",
   "metadata": {
    "scrolled": true
   },
   "outputs": [
    {
     "name": "stdout",
     "output_type": "stream",
     "text": [
      "Epoch: 20; Error: 3276.171793262504;\n",
      "Epoch: 40; Error: 2927.7416217023883;\n",
      "Epoch: 60; Error: 2809.20359746817;\n",
      "Epoch: 80; Error: 2748.5551173776385;\n",
      "Epoch: 100; Error: 2711.6049713099046;\n",
      "Epoch: 120; Error: 2686.703885397008;\n",
      "Epoch: 140; Error: 2668.7733743386484;\n",
      "Epoch: 160; Error: 2655.2409270034786;\n",
      "Epoch: 180; Error: 2644.6626612205782;\n",
      "Epoch: 200; Error: 2636.165044987599;\n",
      "Epoch: 220; Error: 2629.188375370385;\n",
      "Epoch: 240; Error: 2623.357359422771;\n",
      "Epoch: 260; Error: 2618.410894972836;\n",
      "Epoch: 280; Error: 2614.161682690087;\n",
      "Epoch: 300; Error: 2610.471855625199;\n",
      "Epoch: 320; Error: 2607.2376717483685;\n",
      "Epoch: 340; Error: 2604.3795654175156;\n",
      "Epoch: 360; Error: 2601.8354889142793;\n",
      "Epoch: 380; Error: 2599.5563405405246;\n",
      "Epoch: 400; Error: 2597.502754055048;\n",
      "The maximum number of train epochs is reached\n",
      "[[0.         0.         0.         ... 0.         0.         0.        ]\n",
      " [0.         0.         0.         ... 0.         0.         0.        ]\n",
      " [0.         0.         0.         ... 0.         0.         0.        ]\n",
      " ...\n",
      " [0.         0.         0.         ... 0.         0.         0.        ]\n",
      " [0.         0.         0.         ... 0.         0.         0.        ]\n",
      " [0.98923262 0.         0.         ... 0.         0.         0.        ]]\n"
     ]
    }
   ],
   "source": [
    "# train CANN on the created data\n",
    "nparr = np.zeros((5600, 2))\n",
    "for i in range(0, 5600):\n",
    "    nparr[i] = [0, 1]\n",
    "# Create net with 2 inputs and 4 neurons\n",
    "net = nl.net.newc(nparr, 15)\n",
    "# train with rule: Conscience Winner Take All algoritm (CWTA)\n",
    "error = net.train(inputs, epochs=400, show=20)\n",
    "w = net.layers[0].np['w']\n",
    "print(w)"
   ]
  },
  {
   "cell_type": "markdown",
   "id": "3b9e49d8",
   "metadata": {},
   "source": [
    "Try widget:"
   ]
  },
  {
   "cell_type": "code",
   "execution_count": 61,
   "id": "d8efa7c5",
   "metadata": {},
   "outputs": [],
   "source": [
    "my_dict = {'Image 1': 0.25, 'Image 2': 0.1, 'Image 3': 0.4, 'Image 4': 0.7}\n",
    "def f(x):\n",
    "    if x in my_dict.values():\n",
    "        print(list(my_dict.keys())[list(my_dict.values()).index(x)])\n",
    "    else:\n",
    "        print(\"---\")"
   ]
  },
  {
   "cell_type": "code",
   "execution_count": 25,
   "id": "1ac97518",
   "metadata": {},
   "outputs": [
    {
     "data": {
      "application/vnd.jupyter.widget-view+json": {
       "model_id": "b401ea4c411d4fa29ca347c216c165bf",
       "version_major": 2,
       "version_minor": 0
      },
      "text/plain": [
       "interactive(children=(FloatSlider(value=0.5, description='x', max=1.0, step=0.01), Output()), _dom_classes=('w…"
      ]
     },
     "metadata": {},
     "output_type": "display_data"
    }
   ],
   "source": [
    "widgets.interact(f, x=widgets.FloatSlider(min=0, max=1, step=0.01, value=0.5));"
   ]
  },
  {
   "cell_type": "code",
   "execution_count": null,
   "id": "1adfa55c",
   "metadata": {},
   "outputs": [],
   "source": []
  },
  {
   "cell_type": "code",
   "execution_count": null,
   "id": "cb8a47b2",
   "metadata": {},
   "outputs": [],
   "source": []
  }
 ],
 "metadata": {
  "kernelspec": {
   "display_name": "Python 3",
   "language": "python",
   "name": "python3"
  },
  "language_info": {
   "codemirror_mode": {
    "name": "ipython",
    "version": 3
   },
   "file_extension": ".py",
   "mimetype": "text/x-python",
   "name": "python",
   "nbconvert_exporter": "python",
   "pygments_lexer": "ipython3",
   "version": "3.9.9"
  }
 },
 "nbformat": 4,
 "nbformat_minor": 5
}
